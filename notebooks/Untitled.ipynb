{
 "cells": [
  {
   "cell_type": "code",
   "execution_count": 1,
   "id": "f54177a0-2581-4995-9c5f-2c1d40572f78",
   "metadata": {},
   "outputs": [],
   "source": [
    "import torch\n",
    "from torchmetrics import F1"
   ]
  },
  {
   "cell_type": "code",
   "execution_count": 13,
   "id": "9ca681a9-a99a-440b-a809-6f58e79cd133",
   "metadata": {},
   "outputs": [],
   "source": [
    "preds = torch.tensor([\n",
    "    [1.0, 1.0, 0.0, 0.0],\n",
    "    [0.0, 1.0, 0.0, 1.0]\n",
    "])\n",
    "\n",
    "targets = torch.tensor([\n",
    "    [1, 1, 0, 0],\n",
    "    [0, 1, 0, 1]\n",
    "], dtype =  torch.uint8)"
   ]
  },
  {
   "cell_type": "code",
   "execution_count": 15,
   "id": "14027ec4-1747-45c2-a325-a1a07e01f058",
   "metadata": {},
   "outputs": [
    {
     "data": {
      "text/plain": [
       "tensor([1., 1., 0., 1.])"
      ]
     },
     "execution_count": 15,
     "metadata": {},
     "output_type": "execute_result"
    }
   ],
   "source": [
    "f1 = F1(num_classes = 4, average = None, multilabel = True)\n",
    "\n",
    "f1(preds, targets)"
   ]
  },
  {
   "cell_type": "code",
   "execution_count": 16,
   "id": "ea0f4ca7-5875-42b2-9f89-95b319cccc5b",
   "metadata": {},
   "outputs": [],
   "source": [
    "model = torch.load(\"Cnn13_GMP_64x64_520000_iterations_mAP=0.42.pth\")"
   ]
  },
  {
   "cell_type": "code",
   "execution_count": 18,
   "id": "c77f5180-5d3a-4ba1-8616-0e6f8b0a9f66",
   "metadata": {},
   "outputs": [
    {
     "ename": "AttributeError",
     "evalue": "'dict' object has no attribute 'summary'",
     "output_type": "error",
     "traceback": [
      "\u001b[0;31m---------------------------------------------------------------------------\u001b[0m",
      "\u001b[0;31mAttributeError\u001b[0m                            Traceback (most recent call last)",
      "\u001b[0;32m<ipython-input-18-5f15418b3570>\u001b[0m in \u001b[0;36m<module>\u001b[0;34m\u001b[0m\n\u001b[0;32m----> 1\u001b[0;31m \u001b[0mmodel\u001b[0m\u001b[0;34m.\u001b[0m\u001b[0msummary\u001b[0m\u001b[0;34m(\u001b[0m\u001b[0;34m)\u001b[0m\u001b[0;34m\u001b[0m\u001b[0;34m\u001b[0m\u001b[0m\n\u001b[0m",
      "\u001b[0;31mAttributeError\u001b[0m: 'dict' object has no attribute 'summary'"
     ]
    }
   ],
   "source": [
    "model.summary()"
   ]
  },
  {
   "cell_type": "code",
   "execution_count": 20,
   "id": "53598520-19be-441e-8bd7-3b6e4d06ccc9",
   "metadata": {},
   "outputs": [],
   "source": [
    "from torchsummary import summary"
   ]
  },
  {
   "cell_type": "code",
   "execution_count": 23,
   "id": "3ef0e36c-d23e-440a-b595-d62eba7b469a",
   "metadata": {},
   "outputs": [
    {
     "data": {
      "text/plain": [
       "dict"
      ]
     },
     "execution_count": 23,
     "metadata": {},
     "output_type": "execute_result"
    }
   ],
   "source": [
    "type(model)"
   ]
  },
  {
   "cell_type": "code",
   "execution_count": null,
   "id": "8bac9afe-ade4-403c-8f0e-c6c4bba203ea",
   "metadata": {},
   "outputs": [],
   "source": []
  }
 ],
 "metadata": {
  "kernelspec": {
   "display_name": "Python 3",
   "language": "python",
   "name": "python3"
  },
  "language_info": {
   "codemirror_mode": {
    "name": "ipython",
    "version": 3
   },
   "file_extension": ".py",
   "mimetype": "text/x-python",
   "name": "python",
   "nbconvert_exporter": "python",
   "pygments_lexer": "ipython3",
   "version": "3.9.4"
  }
 },
 "nbformat": 4,
 "nbformat_minor": 5
}
